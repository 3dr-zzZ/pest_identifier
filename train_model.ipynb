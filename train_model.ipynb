{
 "cells": [
  {
   "cell_type": "code",
   "execution_count": null,
   "id": "755c5127",
   "metadata": {},
   "outputs": [],
   "source": [
    "import torch\n",
    "from torch.utils.data import DataLoader\n",
    "from torchvision import datasets, transforms\n",
    "from pathlib import Path"
   ]
  },
  {
   "cell_type": "code",
   "execution_count": null,
   "id": "b5455c0e",
   "metadata": {},
   "outputs": [],
   "source": [
    "IMG_SIZE = 224\n",
    "\n",
    "train_transforms = transforms.Compose([\n",
    "    transforms.Resize((IMG_SIZE, IMG_SIZE)),\n",
    "    transforms.ColorJitter(brightness=0.2,\n",
    "                           contrast=0.2,\n",
    "                           saturation=0.2,\n",
    "                           hue=0.1),\n",
    "    transforms.RandomHorizontalFlip(),\n",
    "    transforms.RandomRotation(degrees=10),\n",
    "    transforms.ToTensor(),\n",
    "    transforms.Normalize(mean=(0.485, 0.456, 0.406),\n",
    "                         std=(0.229, 0.224, 0.225)),\n",
    "])\n",
    "\n",
    "val_test_transforms = transforms.Compose([\n",
    "    transforms.Resize((IMG_SIZE, IMG_SIZE)),\n",
    "    transforms.ToTensor(),\n",
    "    transforms.Normalize(mean=(0.485, 0.456, 0.406),\n",
    "                         std=(0.229, 0.224, 0.225)),\n",
    "])"
   ]
  },
  {
   "cell_type": "code",
   "execution_count": null,
   "id": "0075ec89",
   "metadata": {},
   "outputs": [],
   "source": [
    "root_dir   = Path(\"dataset\")\n",
    "batch_size = 64\n",
    "num_workers = 4\n",
    "\n",
    "# Datasets\n",
    "train_ds = datasets.ImageFolder(root_dir / \"train_extracted\",\n",
    "                                transform=train_transforms)\n",
    "val_ds   = datasets.ImageFolder(root_dir / \"val_extracted\",\n",
    "                                transform=val_test_transforms)\n",
    "test_ds  = datasets.ImageFolder(root_dir / \"test_extracted\",\n",
    "                                transform=val_test_transforms)\n",
    "\n",
    "# DataLoaders\n",
    "train_dl = DataLoader(train_ds, batch_size=batch_size, shuffle=True,\n",
    "                      num_workers=num_workers, pin_memory=True, drop_last=True)\n",
    "val_dl   = DataLoader(val_ds,   batch_size=batch_size, shuffle=False,\n",
    "                      num_workers=num_workers, pin_memory=True)\n",
    "test_dl  = DataLoader(test_ds,  batch_size=batch_size, shuffle=False,\n",
    "                      num_workers=num_workers, pin_memory=True)\n",
    "\n",
    "# Quick sanity check\n",
    "idx_to_class = {v: k for k, v in train_ds.class_to_idx.items()}\n",
    "print(f\"📚  {len(idx_to_class)} classes detected:\", idx_to_class)\n",
    "\n",
    "imgs, labels = next(iter(train_dl))\n",
    "print(\"Batch tensor shape:\", imgs.shape)\n",
    "print(\"Labels shape:\", labels.shape)"
   ]
  }
 ],
 "metadata": {
  "language_info": {
   "name": "python"
  }
 },
 "nbformat": 4,
 "nbformat_minor": 5
}
