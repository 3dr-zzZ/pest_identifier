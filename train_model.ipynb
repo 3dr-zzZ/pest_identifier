{
 "cells": [
  {
   "cell_type": "code",
   "execution_count": 1,
   "id": "755c5127",
   "metadata": {},
   "outputs": [],
   "source": [
    "import torch\n",
    "from torch.utils.data import DataLoader\n",
    "from torchvision import datasets, transforms\n",
    "from pathlib import Path"
   ]
  },
  {
   "cell_type": "code",
   "execution_count": 2,
   "id": "b5455c0e",
   "metadata": {},
   "outputs": [],
   "source": [
    "IMG_SIZE = 224\n",
    "\n",
    "train_transforms = transforms.Compose([\n",
    "    transforms.Resize((IMG_SIZE, IMG_SIZE)),\n",
    "    transforms.ColorJitter(brightness=0.2,\n",
    "                           contrast=0.2,\n",
    "                           saturation=0.2,\n",
    "                           hue=0.1),\n",
    "    transforms.RandomHorizontalFlip(),\n",
    "    transforms.RandomRotation(degrees=10),\n",
    "    transforms.ToTensor(),\n",
    "    transforms.Normalize(mean=(0.485, 0.456, 0.406),\n",
    "                         std=(0.229, 0.224, 0.225)),\n",
    "])\n",
    "\n",
    "val_test_transforms = transforms.Compose([\n",
    "    transforms.Resize((IMG_SIZE, IMG_SIZE)),\n",
    "    transforms.ToTensor(),\n",
    "    transforms.Normalize(mean=(0.485, 0.456, 0.406),\n",
    "                         std=(0.229, 0.224, 0.225)),\n",
    "])"
   ]
  },
  {
   "cell_type": "code",
   "execution_count": null,
   "id": "0075ec89",
   "metadata": {},
   "outputs": [
    {
     "name": "stdout",
     "output_type": "stream",
     "text": [
      "📚  20 classes detected: {0: '00175_Animalia_Arthropoda_Insecta_Blattodea_Blaberidae_Aptera_fusca', 1: '00176_Animalia_Arthropoda_Insecta_Blattodea_Blaberidae_Panchlora_nivea', 2: '00177_Animalia_Arthropoda_Insecta_Blattodea_Blaberidae_Pycnoscelus_surinamensis', 3: '00178_Animalia_Arthropoda_Insecta_Blattodea_Blattidae_Blatta_orientalis', 4: '00179_Animalia_Arthropoda_Insecta_Blattodea_Blattidae_Periplaneta_americana', 5: '00180_Animalia_Arthropoda_Insecta_Blattodea_Blattidae_Periplaneta_australasiae', 6: '00181_Animalia_Arthropoda_Insecta_Blattodea_Blattidae_Periplaneta_fuliginosa', 7: '00182_Animalia_Arthropoda_Insecta_Blattodea_Ectobiidae_Pseudomops_septentrionalis', 8: '00443_Animalia_Arthropoda_Insecta_Diptera_Culicidae_Aedes_aegypti', 9: '00444_Animalia_Arthropoda_Insecta_Diptera_Culicidae_Aedes_albopictus', 10: '00445_Animalia_Arthropoda_Insecta_Diptera_Culicidae_Aedes_vexans', 11: '00446_Animalia_Arthropoda_Insecta_Diptera_Culicidae_Culex_quinquefasciatus', 12: '00447_Animalia_Arthropoda_Insecta_Diptera_Culicidae_Psorophora_ciliata', 13: '00449_Animalia_Arthropoda_Insecta_Diptera_Muscidae_Mesembrina_meridiana', 14: '00450_Animalia_Arthropoda_Insecta_Diptera_Muscidae_Musca_domestica', 15: '00451_Animalia_Arthropoda_Insecta_Diptera_Muscidae_Stomoxys_calcitrans', 16: '04813_Animalia_Chordata_Mammalia_Rodentia_Muridae_Mus_musculus', 17: '04814_Animalia_Chordata_Mammalia_Rodentia_Muridae_Rattus_norvegicus', 18: '04815_Animalia_Chordata_Mammalia_Rodentia_Muridae_Rattus_rattus', 19: '04816_Animalia_Chordata_Mammalia_Rodentia_Muridae_Rhabdomys_pumilio'}\n",
      "Batch tensor shape: torch.Size([64, 3, 224, 224])\n",
      "Labels shape: torch.Size([64])\n"
     ]
    }
   ],
   "source": [
    "root_dir   = Path(\"dataset\")\n",
    "batch_size = 64\n",
    "num_workers = 4\n",
    "\n",
    "# Datasets\n",
    "train_ds = datasets.ImageFolder(root_dir / \"train_extracted\",\n",
    "                                transform=train_transforms)\n",
    "val_ds   = datasets.ImageFolder(root_dir / \"val_extracted\",\n",
    "                                transform=val_test_transforms)\n",
    "# test_ds  = datasets.ImageFolder(root_dir / \"test_extracted\",\n",
    "#                                 transform=val_test_transforms)\n",
    "\n",
    "# DataLoaders\n",
    "train_dl = DataLoader(train_ds, batch_size=batch_size, shuffle=True,\n",
    "                      num_workers=num_workers, pin_memory=True, drop_last=True)\n",
    "val_dl   = DataLoader(val_ds,   batch_size=batch_size, shuffle=False,\n",
    "                      num_workers=num_workers, pin_memory=True)\n",
    "# test_dl  = DataLoader(test_ds,  batch_size=batch_size, shuffle=False,\n",
    "#                       num_workers=num_workers, pin_memory=True)\n",
    "\n",
    "# Quick sanity check\n",
    "idx_to_class = {v: k for k, v in train_ds.class_to_idx.items()}\n",
    "print(f\"{len(idx_to_class)} classes detected:\", idx_to_class)\n",
    "\n",
    "imgs, labels = next(iter(train_dl))\n",
    "print(\"Batch tensor shape:\", imgs.shape)\n",
    "print(\"Labels shape:\", labels.shape)"
   ]
  },
  {
   "cell_type": "code",
   "execution_count": null,
   "id": "4bdae3e9",
   "metadata": {},
   "outputs": [],
   "source": [
    "# 📒  Cell 4 — ConvNeXt-Tiny backbone + fresh 20-way head (filtered state-dict)\n",
    "import torch, timm, pathlib, re, torch.nn as nn\n",
    "from torchsummary import summary            # optional\n",
    "ckpt_path   = pathlib.Path(\"convnext_tiny_in12k.pth\")\n",
    "DEVICE      = \"cuda\" if torch.cuda.is_available() else \"cpu\"\n",
    "num_classes = len(idx_to_class)             # from Cell 3\n",
    "IMG_SIZE    = 224\n",
    "\n",
    "# 1️⃣  build backbone only (no classifier)\n",
    "model = timm.create_model(\n",
    "    \"convnext_tiny.in12k\",\n",
    "    pretrained=False,\n",
    "    num_classes=0\n",
    ").to(DEVICE)\n",
    "\n",
    "# 2️⃣  load checkpoint, FILTERING OUT the old head ---------------------------\n",
    "state = torch.load(ckpt_path, map_location=\"cpu\")\n",
    "raw_sd = state[\"model\"] if isinstance(state, dict) and \"model\" in state else state\n",
    "\n",
    "# strip 'module.' prefix if present, then discard keys that start with 'head.'\n",
    "state_dict = {\n",
    "    re.sub(r\"^module\\.\", \"\", k): v\n",
    "    for k, v in raw_sd.items()\n",
    "    if not k.startswith(\"head.\")           # <-- drop the 11 821-class head\n",
    "}\n",
    "\n",
    "missing, unexpected = model.load_state_dict(state_dict, strict=False)\n",
    "print(f\"✅  Backbone loaded.  Skipped {len(unexpected)} old-head keys.\")\n",
    "\n",
    "# 3️⃣  fresh 20-class head ----------------------------------------------------\n",
    "in_feats   = model.num_features\n",
    "model.head = nn.Linear(in_feats, num_classes)\n",
    "nn.init.trunc_normal_(model.head.weight, std=0.02)\n",
    "nn.init.zeros_(model.head.bias)\n",
    "model = model.to(DEVICE)\n",
    "\n",
    "# 4️⃣  dry-run\n",
    "model.eval()\n",
    "with torch.no_grad():\n",
    "    imgs, _ = next(iter(train_dl))\n",
    "    logits = model(imgs.to(DEVICE))\n",
    "    print(\"Logits shape:\", logits.shape)   # torch.Size([batch, 20])\n",
    "\n",
    "# 5️⃣  (optional) layer table\n",
    "try:\n",
    "    summary(model, input_size=(3, IMG_SIZE, IMG_SIZE))\n",
    "except Exception:\n",
    "    pass"
   ]
  }
 ],
 "metadata": {
  "kernelspec": {
   "display_name": "pest",
   "language": "python",
   "name": "python3"
  },
  "language_info": {
   "codemirror_mode": {
    "name": "ipython",
    "version": 3
   },
   "file_extension": ".py",
   "mimetype": "text/x-python",
   "name": "python",
   "nbconvert_exporter": "python",
   "pygments_lexer": "ipython3",
   "version": "3.11.13"
  }
 },
 "nbformat": 4,
 "nbformat_minor": 5
}
