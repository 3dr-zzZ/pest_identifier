{
 "cells": [
  {
   "cell_type": "code",
   "execution_count": 1,
   "id": "d8dcfd58",
   "metadata": {},
   "outputs": [],
   "source": [
    "# Load the data\n",
    "from torch.utils.data import DataLoader\n",
    "from torchvision import datasets, transforms\n",
    "\n",
    "ROOT_DIR = \"dataset//\"\n",
    "batch_size = 64\n",
    "\n",
    "train_transforms = transforms.Compose([\n",
    "    transforms.RandomResizedCrop(224, scale=(0.7, 1)),\n",
    "    transforms.ColorJitter(brightness=0.2,\n",
    "                           contrast=0.2,\n",
    "                           saturation=0.2,\n",
    "                           hue=0.1),\n",
    "    transforms.RandomHorizontalFlip(),\n",
    "    transforms.RandomRotation(degrees=10),\n",
    "    transforms.ToTensor(),\n",
    "    transforms.Normalize(mean=(0.485, 0.456, 0.406),\n",
    "                         std=(0.229, 0.224, 0.225)),\n",
    "    transforms.RandomErasing(p = 0.25),\n",
    "])\n",
    "\n",
    "val_transforms = transforms.Compose([\n",
    "    transforms.Resize((224, 224)),\n",
    "    transforms.ToTensor(),\n",
    "    transforms.Normalize(mean=(0.485, 0.456, 0.406),\n",
    "                         std=(0.229, 0.224, 0.225)),\n",
    "])\n",
    "\n",
    "train_ds = datasets.ImageFolder(f\"{ROOT_DIR}train\", transform = train_transforms)\n",
    "val_ds = datasets.ImageFolder(f\"{ROOT_DIR}val\", transform = val_transforms)\n",
    "\n",
    "train_dl = DataLoader(train_ds, batch_size = batch_size, shuffle = True, drop_last = False)\n",
    "val_dl = DataLoader(val_ds, batch_size = batch_size, shuffle = True, drop_last = False)"
   ]
  },
  {
   "cell_type": "code",
   "execution_count": null,
   "id": "6e660e9c",
   "metadata": {},
   "outputs": [
    {
     "name": "stdout",
     "output_type": "stream",
     "text": [
      "{'Aedes_aegypti': 0, 'Aedes_alboannulatus': 1, 'Aedes_albopictus': 2, 'Aedes_canadensis': 3, 'Aedes_caspius': 4, 'Aedes_geniculatus': 5, 'Aedes_japonicus': 6, 'Aedes_notoscriptus': 7, 'Aedes_sollicitans': 8, 'Aedes_taeniorhynchus': 9, 'Aedes_triseriatus': 10, 'Aedes_trivittatus': 11, 'Aedes_vexans': 12, 'Anopheles_punctipennis': 13, 'Anopheles_quadrimaculatus': 14, 'Aptera_fusca': 15, 'Armigeres_subalbatus': 16, 'Blatta_orientalis': 17, 'Coquillettidia_perturbans': 18, 'Culex_pipiens': 19, 'Culex_quinquefasciatus': 20, 'Culex_tarsalis': 21, 'Culiseta_annulata': 22, 'Culiseta_incidens': 23, 'Culiseta_inornata': 24, 'Culiseta_longiareolata': 25, 'Mesembrina_meridiana': 26, 'Mus_musculus': 27, 'Musca_domestica': 28, 'Panchlora_nivea': 29, 'Periplaneta_americana': 30, 'Periplaneta_australasiae': 31, 'Periplaneta_fuliginosa': 32, 'Pseudomops_septentrionalis': 33, 'Psorophora_ciliata': 34, 'Psorophora_columbiae': 35, 'Psorophora_cyanescens': 36, 'Psorophora_ferox': 37, 'Pycnoscelus_surinamensis': 38, 'Rattus_norvegicus': 39, 'Rattus_rattus': 40, 'Rhabdomys_pumilio': 41, 'Stomoxys_calcitrans': 42, 'Toxorhynchites_rutilus': 43, 'Toxorhynchites_speciosus': 44}\n",
      "['Aedes_aegypti', 'Aedes_alboannulatus', 'Aedes_albopictus', 'Aedes_canadensis', 'Aedes_caspius', 'Aedes_geniculatus', 'Aedes_japonicus', 'Aedes_notoscriptus', 'Aedes_sollicitans', 'Aedes_taeniorhynchus', 'Aedes_triseriatus', 'Aedes_trivittatus', 'Aedes_vexans', 'Anopheles_punctipennis', 'Anopheles_quadrimaculatus', 'Aptera_fusca', 'Armigeres_subalbatus', 'Blatta_orientalis', 'Coquillettidia_perturbans', 'Culex_pipiens', 'Culex_quinquefasciatus', 'Culex_tarsalis', 'Culiseta_annulata', 'Culiseta_incidens', 'Culiseta_inornata', 'Culiseta_longiareolata', 'Mesembrina_meridiana', 'Mus_musculus', 'Musca_domestica', 'Panchlora_nivea', 'Periplaneta_americana', 'Periplaneta_australasiae', 'Periplaneta_fuliginosa', 'Pseudomops_septentrionalis', 'Psorophora_ciliata', 'Psorophora_columbiae', 'Psorophora_cyanescens', 'Psorophora_ferox', 'Pycnoscelus_surinamensis', 'Rattus_norvegicus', 'Rattus_rattus', 'Rhabdomys_pumilio', 'Stomoxys_calcitrans', 'Toxorhynchites_rutilus', 'Toxorhynchites_speciosus']\n"
     ]
    }
   ],
   "source": [
    "# Take a look at the dataset\n",
    "from torch.utils.tensorboard import SummaryWriter\n",
    "\n",
    "print(train_ds.class_to_idx)\n",
    "print(train_ds.classes)\n",
    "\n",
    "writer = SummaryWriter(\"logs\")\n",
    "for i in range(10):\n",
    "    train_img, target = train_ds[i]\n",
    "    writer.add_image(\"train_ds\", train_img, i)\n",
    "    val_img, target = val_ds[i]\n",
    "    writer.add_image(\"val_ds\", val_img, i)\n",
    "\n",
    "step = 0\n",
    "for data in train_dl:\n",
    "    imgs, target = data\n",
    "    writer.add_images(\"train_dl\", imgs, step)\n",
    "    step += 1\n",
    "    if step == 9:\n",
    "        break\n",
    "writer.close()"
   ]
  }
 ],
 "metadata": {
  "kernelspec": {
   "display_name": "pest",
   "language": "python",
   "name": "python3"
  },
  "language_info": {
   "codemirror_mode": {
    "name": "ipython",
    "version": 3
   },
   "file_extension": ".py",
   "mimetype": "text/x-python",
   "name": "python",
   "nbconvert_exporter": "python",
   "pygments_lexer": "ipython3",
   "version": "3.11.13"
  }
 },
 "nbformat": 4,
 "nbformat_minor": 5
}
