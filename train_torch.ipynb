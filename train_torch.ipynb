{
 "cells": [
  {
   "cell_type": "code",
   "execution_count": null,
   "id": "d8dcfd58",
   "metadata": {},
   "outputs": [],
   "source": [
    "# Load the data\n",
    "from torch.utils.data import DataLoader\n",
    "from torchvision import datasets, transforms\n",
    "\n",
    "ROOT_DIR = \"dataset//\"\n",
    "batch_size = 64\n",
    "\n",
    "train_transforms = transforms.Compose([\n",
    "    transforms.RandomResizedCrop(224, scale=(0.7, 1)),\n",
    "    transforms.ColorJitter(brightness=0.2,\n",
    "                           contrast=0.2,\n",
    "                           saturation=0.2,\n",
    "                           hue=0.1),\n",
    "    transforms.RandomHorizontalFlip(),\n",
    "    transforms.RandomRotation(degrees=10),\n",
    "    transforms.ToTensor(),\n",
    "    transforms.Normalize(mean=(0.485, 0.456, 0.406),\n",
    "                         std=(0.229, 0.224, 0.225)),\n",
    "    transforms.RandomErasing(p = 0.25),\n",
    "])\n",
    "\n",
    "val_transforms = transforms.Compose([\n",
    "    transforms.Resize((224, 224)),\n",
    "    transforms.ToTensor(),\n",
    "    transforms.Normalize(mean=(0.485, 0.456, 0.406),\n",
    "                         std=(0.229, 0.224, 0.225)),\n",
    "])\n",
    "\n",
    "train_ds = datasets.ImageFolder(f\"{ROOT_DIR}train\", transform = train_transforms)\n",
    "val_ds = datasets.ImageFolder(f\"{ROOT_DIR}val\", transform = val_transforms)\n",
    "\n",
    "train_dl = DataLoader(train_ds, batch_size = batch_size, shuffle = True, drop_last = False)\n",
    "val_dl = DataLoader(val_ds, batch_size = batch_size, shuffle = True, drop_last = False)"
   ]
  },
  {
   "cell_type": "code",
   "execution_count": null,
   "id": "6e660e9c",
   "metadata": {},
   "outputs": [],
   "source": [
    "# Take a look at the dataset\n",
    "from torch.utils.tensorboard import SummaryWriter\n",
    "\n",
    "print(train_ds.class_to_idx)\n",
    "print(train_ds.classes)\n",
    "\n",
    "writer = SummaryWriter(\"logs\")\n",
    "for i in range(10):\n",
    "    train_img, target = train_ds[i]\n",
    "    writer.add_image(\"train_ds\", train_img, i)\n",
    "    val_img, target = val_ds[i]\n",
    "    writer.add_image(\"val_ds\", val_img, i)\n",
    "\n",
    "imgs, target = train_dl[0]\n",
    "writer.add_images(\"train_dl\", imgs, 0)\n",
    "imgs, target = val_dl[0]\n",
    "writer.add_images(\"val_dl\", imgs, 0)\n",
    "\n",
    "writer.close()"
   ]
  }
 ],
 "metadata": {
  "kernelspec": {
   "display_name": "pest",
   "language": "python",
   "name": "python3"
  },
  "language_info": {
   "codemirror_mode": {
    "name": "ipython",
    "version": 3
   },
   "file_extension": ".py",
   "mimetype": "text/x-python",
   "name": "python",
   "nbconvert_exporter": "python",
   "pygments_lexer": "ipython3",
   "version": "3.11.13"
  }
 },
 "nbformat": 4,
 "nbformat_minor": 5
}
